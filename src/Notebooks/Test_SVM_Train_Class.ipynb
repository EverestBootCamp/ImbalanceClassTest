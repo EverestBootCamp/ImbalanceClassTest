{
 "cells": [
  {
   "cell_type": "code",
   "execution_count": 9,
   "metadata": {},
   "outputs": [],
   "source": [
    "import numpy as np\n",
    "import pandas as pd\n",
    "from sklearn import svm\n",
    "from sklearn.preprocessing import StandardScaler\n",
    "from sklearn.model_selection import train_test_split, GridSearchCV\n",
    "from sklearn.pipeline import Pipeline\n",
    "from sklearn.model_selection import cross_val_score\n",
    "from sklearn.metrics import f1_score\n",
    "import unittest\n",
    "import pytest\n",
    "import sys\n",
    "from svm_model import Model"
   ]
  },
  {
   "cell_type": "code",
   "execution_count": 10,
   "metadata": {},
   "outputs": [],
   "source": [
    "class TestSVM(unittest.TestCase):\n",
    "   \n",
    "    def test_train_svm_linear (self):\n",
    "        train_path=\"./data_transformed_10.csv\"\n",
    "        test_path=\"./data_transformed_10.csv\"\n",
    "        obj= Model(train_path,test_path,CV=5,label='Class') \n",
    "        result1=obj.svm(hyper_parameter={'kernel':'linear','C':1.0,'gamma' : 'auto'})\n",
    "        expected_cv_result1 =0.70\n",
    "        self.assertEqual(expected_cv_result1,round(result1,2))\n",
    "        \n",
    "    def test_train_svm_poly (self):\n",
    "        train_path=\"./data_transformed_10.csv\"\n",
    "        test_path=\"./data_transformed_10.csv\"\n",
    "        obj= Model(train_path,test_path,CV=5,label='Class') \n",
    "        result2=obj.svm(hyper_parameter={'kernel':'poly','C':1.0,'gamma' : 'scale'})\n",
    "        expected_cv_result2 =0.60\n",
    "        self.assertEqual(expected_cv_result2,round(result2,2))\n",
    "    def test_train_svm_rbf (self):\n",
    "        train_path=\"./data_transformed_10.csv\"\n",
    "        test_path=\"./data_transformed_10.csv\"\n",
    "        obj= Model(train_path,test_path,CV=5,label='Class') \n",
    "        result=obj.svm(hyper_parameter={'kernel':'rbf','C':1.0,'gamma':0.7})\n",
    "        expected_cv_result =0.70\n",
    "        self.assertEqual(expected_cv_result,round(result,2))\n",
    "        \n"
   ]
  },
  {
   "cell_type": "code",
   "execution_count": 11,
   "metadata": {},
   "outputs": [
    {
     "name": "stderr",
     "output_type": "stream",
     "text": [
      "/Users/manasaramojjala/opt/anaconda3/lib/python3.8/site-packages/sklearn/model_selection/_split.py:666: UserWarning: The least populated class in y has only 3 members, which is less than n_splits=5.\n",
      "  warnings.warn((\"The least populated class in y has only %d\"\n",
      "./Users/manasaramojjala/opt/anaconda3/lib/python3.8/site-packages/sklearn/model_selection/_split.py:666: UserWarning: The least populated class in y has only 3 members, which is less than n_splits=5.\n",
      "  warnings.warn((\"The least populated class in y has only %d\"\n",
      "./Users/manasaramojjala/opt/anaconda3/lib/python3.8/site-packages/sklearn/model_selection/_split.py:666: UserWarning: The least populated class in y has only 3 members, which is less than n_splits=5.\n",
      "  warnings.warn((\"The least populated class in y has only %d\"\n",
      ".\n",
      "----------------------------------------------------------------------\n",
      "Ran 3 tests in 1.808s\n",
      "\n",
      "OK\n"
     ]
    },
    {
     "data": {
      "text/plain": [
       "<unittest.runner.TextTestResult run=3 errors=0 failures=0>"
      ]
     },
     "execution_count": 11,
     "metadata": {},
     "output_type": "execute_result"
    }
   ],
   "source": [
    "suite = unittest.TestLoader().loadTestsFromTestCase(TestSVM)\n",
    "unittest.TextTestRunner(verbosity=1, stream=sys.stderr).run(suite)"
   ]
  },
  {
   "cell_type": "code",
   "execution_count": null,
   "metadata": {},
   "outputs": [],
   "source": []
  }
 ],
 "metadata": {
  "kernelspec": {
   "display_name": "Python 3",
   "language": "python",
   "name": "python3"
  },
  "language_info": {
   "codemirror_mode": {
    "name": "ipython",
    "version": 3
   },
   "file_extension": ".py",
   "mimetype": "text/x-python",
   "name": "python",
   "nbconvert_exporter": "python",
   "pygments_lexer": "ipython3",
   "version": "3.8.3"
  }
 },
 "nbformat": 4,
 "nbformat_minor": 4
}
