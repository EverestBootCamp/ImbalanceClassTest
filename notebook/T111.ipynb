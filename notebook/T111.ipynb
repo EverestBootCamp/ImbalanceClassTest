{
 "cells": [
  {
   "cell_type": "code",
   "execution_count": 54,
   "metadata": {},
   "outputs": [],
   "source": [
    "import numpy as np\n",
    "import pandas as pd\n",
    "import sklearn.datasets\n",
    "from sklearn.metrics import f1_score\n",
    "from sklearn.preprocessing import StandardScaler\n",
    "from sklearn.model_selection import train_test_split\n",
    "import mlflow\n",
    "import optuna\n",
    "import optuna.integration.lightgbm as lgb\n",
    "import math"
   ]
  },
  {
   "cell_type": "code",
   "execution_count": 64,
   "metadata": {},
   "outputs": [],
   "source": [
    "class LGBM_Model():\n",
    "    def objective(trial,self,train_path,test_path,label='Class'):\n",
    "        train = pd.read_csv(train_path) #reading train data\n",
    "        test = pd.read_csv(test_path) #reading test data\n",
    "        self.train_x= train.iloc[:1000,:-1]\n",
    "        self.test_x= test.iloc[:1000,:-1]\n",
    "        self.train_y = train.iloc[:1000,:][label] \n",
    "        self.test_y = test.iloc[:1000,:][label]\n",
    "        sc = StandardScaler() #scaling data\n",
    "        self.scaled_X_train = sc.fit_transform(self.train_x)\n",
    "        self.scaled_X_test = sc.transform(self.test_x)\n",
    "        dtrain = lgb.Dataset(self.scaled_X_train, label = self.train_y, free_raw_data = False)\n",
    "        dtest  = lgb.Dataset(self.scaled_X_test, label = self.test_y, free_raw_data = False)\n",
    "        param = {\n",
    "                'objective': 'binary',\n",
    "                'metric': 'binary_logloss',\n",
    "                'verbosity': -1,\n",
    "                'boosting_type': 'gbdt',\n",
    "                'lambda_l1': trial.suggest_float('lambda_l1', 1e-8, 10.0,log=True),\n",
    "                'lambda_l2': trial.suggest_float('lambda_l2', 1e-8, 10.0,log=True),\n",
    "                'max_bin': trial.suggest_int(\"max_bin\", 1, 512),\n",
    "                'num_leaves': trial.suggest_int(\"num_leaves\", 2, 256),\n",
    "                'feature_fraction': trial.suggest_float('feature_fraction', 0.4, 1.0),\n",
    "                'bagging_fraction': trial.suggest_float('bagging_fraction', 0.4, 1.0),\n",
    "                'bagging_freq': trial.suggest_int('bagging_freq', 1, 7),\n",
    "                'min_child_samples': trial.suggest_int('min_child_samples', 5, 100),\n",
    "            }\n",
    "        pruning_callback = optuna.integration.LightGBMPruningCallback(trial, 'binary_logloss')\n",
    "        gbm = lgb.train(\n",
    "                param, \n",
    "                dtrain, \n",
    "                verbose_eval = 20,\n",
    "                valid_sets = [dtest], \n",
    "                callbacks = [pruning_callback]\n",
    "            )\n",
    "        preds = gbm.predict(self.scaled_X_test)\n",
    "        f1_score = sklearn.metrics.f1_score(self.test_y, preds)\n",
    "        return f1_score\n",
    "        if __name__ == \"__main__\":\n",
    "            dtrain = lgb.Dataset(self.scaled_X_train, label=self.train_y, free_raw_data=False)\n",
    "            params = {\n",
    "                        \"objective\": \"binary\",\n",
    "                        \"metric\": \"binary_logloss\",\n",
    "                        \"verbosity\": -1,\n",
    "                        \"boosting_type\": \"gbdt\",\n",
    "                    }\n",
    "            tuner = lgb.LightGBMTunerCV(\n",
    "                params,\n",
    "                dtrain,\n",
    "                verbose_eval=100,\n",
    "                early_stopping_rounds=100,\n",
    "                folds=KFold(n_splits=3),\n",
    "            )\n",
    "            tuner.run()\n",
    "            print(\"Best score:\", tuner.best_score)\n",
    "            best_params = tuner.best_params\n",
    "            print(\"Best params:\", best_params)\n",
    "            print(\"  Params: \")\n",
    "            for key, value in best_params.items():\n",
    "                print(\"    {}: {}\".format(key, value))\n",
    "                \n",
    "                \n",
    "                \n",
    "        \n",
    "            \n",
    "            \n",
    "            \n",
    "        \n",
    "        \n",
    "\n",
    "    \n",
    "    \n"
   ]
  },
  {
   "cell_type": "code",
   "execution_count": 65,
   "metadata": {},
   "outputs": [],
   "source": [
    "x=LGBM_Model()"
   ]
  },
  {
   "cell_type": "code",
   "execution_count": 66,
   "metadata": {},
   "outputs": [
    {
     "data": {
      "text/plain": [
       "<bound method LGBM_Model.objective of <__main__.LGBM_Model object at 0x000002C77F5B8390>>"
      ]
     },
     "execution_count": 66,
     "metadata": {},
     "output_type": "execute_result"
    }
   ],
   "source": [
    "x.objective"
   ]
  },
  {
   "cell_type": "code",
   "execution_count": null,
   "metadata": {},
   "outputs": [],
   "source": []
  }
 ],
 "metadata": {
  "kernelspec": {
   "display_name": "Python 3",
   "language": "python",
   "name": "python3"
  },
  "language_info": {
   "codemirror_mode": {
    "name": "ipython",
    "version": 3
   },
   "file_extension": ".py",
   "mimetype": "text/x-python",
   "name": "python",
   "nbconvert_exporter": "python",
   "pygments_lexer": "ipython3",
   "version": "3.7.3"
  }
 },
 "nbformat": 4,
 "nbformat_minor": 2
}
