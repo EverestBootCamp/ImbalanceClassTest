{
  "nbformat": 4,
  "nbformat_minor": 0,
  "metadata": {
    "colab": {
      "name": "T102 :Create annotations of data, train and testset.ipynb",
      "provenance": [],
      "collapsed_sections": [],
      "include_colab_link": true
    },
    "kernelspec": {
      "name": "python3",
      "display_name": "Python 3"
    }
  },
  "cells": [
    {
      "cell_type": "markdown",
      "metadata": {
        "id": "view-in-github",
        "colab_type": "text"
      },
      "source": [
        "<a href=\"https://colab.research.google.com/github/EverestBootCamp/ImbalanceClassTest/blob/T102_Annotations/T102_Create_annotations_of_data%2C_train_and_testset.ipynb\" target=\"_parent\"><img src=\"https://colab.research.google.com/assets/colab-badge.svg\" alt=\"Open In Colab\"/></a>"
      ]
    },
    {
      "cell_type": "code",
      "metadata": {
        "id": "Ek7xCfCTAs0w"
      },
      "source": [
        "'''\r\n",
        "Required Liraries Imported\r\n",
        "'''\r\n",
        "import numpy as np\r\n",
        "import pandas as pd\r\n",
        "from sklearn.model_selection import train_test_split\r\n",
        "import collections"
      ],
      "execution_count": null,
      "outputs": []
    },
    {
      "cell_type": "code",
      "metadata": {
        "id": "DsPIsZ1L_k9P"
      },
      "source": [
        "# import data\r\n",
        "df = pd.read_csv(\"data_transformed.csv\") "
      ],
      "execution_count": null,
      "outputs": []
    },
    {
      "cell_type": "code",
      "metadata": {
        "id": "S0Sw8X_KALhi"
      },
      "source": [
        "class Annotation():\r\n",
        "    '''\r\n",
        "    Following arguments are required to run this annotation class.Default values are provided:-\r\n",
        "    \r\n",
        "    File path where the original data csv file is saved. Input should be in String format.\r\n",
        "    input_file_path='data_transformed.csv'\r\n",
        "    \r\n",
        "    The dependent or target feature. Input should be in String format.\r\n",
        "    target_column='Class'\r\n",
        "    \r\n",
        "    Test size for the train test split. Input should be in integer format.\r\n",
        "    test_size=0.3\r\n",
        "    \r\n",
        "    File path where the output csv file need to be saved. Input should be in String format.\r\n",
        "    output_file_path='C:\\\\Users\\\\udayr\\\\OneDrive\\\\Desktop'\r\n",
        "    '''\r\n",
        "    def __init__(self,input_file_path='data_transformed.csv',target_column='Class',test_size=0.3,output_file_path='/content'):\r\n",
        "        self.input_file_path = input_file_path\r\n",
        "        self.target_column = target_column\r\n",
        "        self.test_size = test_size\r\n",
        "        self.output_file_path = output_file_path\r\n",
        "        \r\n",
        "    def data_as_csv(self):\r\n",
        "        \r\n",
        "        #Read the data_transformed file\r\n",
        "        df = pd.read_csv(self.input_file_path)\r\n",
        "        \r\n",
        "        #Splitting the independednt adn dependent variable\r\n",
        "        X = df.drop(columns=[self.target_column]) #input\r\n",
        "        y = df[self.target_column]    #output\r\n",
        "        \r\n",
        "        # Splitting 70% of the data for training and 30% for testing (with stratification for imbalanced class)\r\n",
        "        X_train, X_test, y_train, y_test = train_test_split(X, y, test_size = self.test_size, stratify= y, random_state = 0)\r\n",
        "        \r\n",
        "        #making a copy to avoid SettingWithCopy Warning\r\n",
        "        train_data = X_train.copy()\r\n",
        "        test_data = X_test.copy()\r\n",
        "        \r\n",
        "        #Combining the stratified Train nad Test data separatley\r\n",
        "        train_data.loc[:,self.target_column]= y_train\r\n",
        "        test_data.loc[:,self.target_column]= y_test\r\n",
        "        \r\n",
        "        #Setting the names for Train and test data csv files, of the full data\r\n",
        "        train_dataset_name = self.output_file_path+'\\data_transformed_for_training_'+ str(70) + \"pct.csv\"\r\n",
        "        test_dataset_name = self.output_file_path+'\\data_transformed_for_testing_'+ str(30) + \"pct.csv\"\r\n",
        "        \r\n",
        "        #Saving Train and test data csv files, of the full data\r\n",
        "        train_data.to_csv(train_dataset_name, index=False)\r\n",
        "        print('{} saved'.format(train_dataset_name))\r\n",
        "        test_data.to_csv(test_dataset_name, index=False)\r\n",
        "        print('{} saved'.format(test_dataset_name))\r\n",
        "        \r\n",
        "        #Since the startified 70 ercent trainig data is actually 100 percent\r\n",
        "        #annotated data. So, saving the same file as the 100 percent annotated file.\r\n",
        "        dataset_name = self.output_file_path+'\\data_transformed_annotated_100_pct.csv'\r\n",
        "        train_data.to_csv(dataset_name, index=False)\r\n",
        "        print('Stratified 70% Training data re-saved - {}'.format(dataset_name))\r\n",
        "        \r\n",
        "        #Read the Stratified 70% data_transformed file\r\n",
        "        df_70 = pd.read_csv(train_dataset_name)  \r\n",
        "        \r\n",
        "        #Splitting the independednt adn dependent variable\r\n",
        "        X_70 = df_70.drop(columns=[self.target_column]) #input\r\n",
        "        y_70 = df_70[self.target_column]    #output\r\n",
        "        \r\n",
        "        for size in list(np.linspace(0.1,0.9,9)):\r\n",
        "            '''\r\n",
        "            Performing Train test split on the stratified 70% data and in the loop incresing the test size by 10%\r\n",
        "            with each step. Then combine only the Test data, to have the data in 10% advancing portions and maintain the\r\n",
        "            category proprtion in the Class feature. The output will be the saved csv files of the combined Test data.\r\n",
        "            '''\r\n",
        "            _, Sample_X, _, Sample_y = train_test_split(X_70, y_70, test_size = self.test_size, stratify= y_70, random_state = 0)\r\n",
        "            dataset_name = self.output_file_path+'\\data_transformed_annotated_'+ str(round(size*100)) + \"pct.csv\"\r\n",
        "            train_data = Sample_X.copy()\r\n",
        "            train_data.loc[:,'Class'] = Sample_y\r\n",
        "            train_data.to_csv(dataset_name, index=False)\r\n",
        "            print('{} saved'.format(dataset_name))"
      ],
      "execution_count": null,
      "outputs": []
    },
    {
      "cell_type": "code",
      "metadata": {
        "id": "Xl0jdEjSA5CJ",
        "colab": {
          "base_uri": "https://localhost:8080/"
        },
        "outputId": "72eff347-dd48-435d-b1ec-921018bf7a20"
      },
      "source": [
        "a = Annotation()    #Calling the class and assigning it to 'a' with the dataset as the argument\r\n",
        "a.data_as_csv()"
      ],
      "execution_count": null,
      "outputs": [
        {
          "output_type": "stream",
          "text": [
            "/content\\data_transformed_for_training_70pct.csv saved\n",
            "/content\\data_transformed_for_testing_30pct.csv saved\n",
            "Stratified 70% Training data re-saved - /content\\data_transformed_annotated_100_pct.csv\n",
            "/content\\data_transformed_annotated_10pct.csv saved\n",
            "/content\\data_transformed_annotated_20pct.csv saved\n",
            "/content\\data_transformed_annotated_30pct.csv saved\n",
            "/content\\data_transformed_annotated_40pct.csv saved\n",
            "/content\\data_transformed_annotated_50pct.csv saved\n",
            "/content\\data_transformed_annotated_60pct.csv saved\n",
            "/content\\data_transformed_annotated_70pct.csv saved\n",
            "/content\\data_transformed_annotated_80pct.csv saved\n",
            "/content\\data_transformed_annotated_90pct.csv saved\n"
          ],
          "name": "stdout"
        }
      ]
    },
    {
      "cell_type": "markdown",
      "metadata": {
        "id": "digFLo6rAIgK"
      },
      "source": [
        ""
      ]
    }
  ]
}