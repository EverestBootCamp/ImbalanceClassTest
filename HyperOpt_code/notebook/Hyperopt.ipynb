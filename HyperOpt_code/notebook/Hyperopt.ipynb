{
 "cells": [
  {
   "cell_type": "markdown",
   "metadata": {},
   "source": [
    "# Analysis Goal :"
   ]
  },
  {
   "cell_type": "markdown",
   "metadata": {},
   "source": [
    "To perform hyper-parameter tuning using HyperOpt for SVM model"
   ]
  },
  {
   "cell_type": "markdown",
   "metadata": {},
   "source": [
    "# Hyperparameter Tuning with hyperopt"
   ]
  },
  {
   "cell_type": "markdown",
   "metadata": {},
   "source": [
    "Hyperparameter tuning is an important step for maximizing the performance of a model. Hyperparameters are certain values/weights that determine the learning process of an algorithm. Several Python packages have been developed specifically for this purpose. Scikit-learn provides a few options, GridSearchCV and RandomizedSearchCV being two of the more popular options. Outside of scikit-learn, the Optunity, Spearmint and hyperopt packages are all designed for optimization. In this task, we will focus on the hyperopt package which provides algorithms that are able to outperform randomized search."
   ]
  },
  {
   "cell_type": "code",
   "execution_count": 1,
   "metadata": {},
   "outputs": [],
   "source": [
    "from SvmModel import Model"
   ]
  },
  {
   "cell_type": "code",
   "execution_count": 2,
   "metadata": {},
   "outputs": [],
   "source": [
    "model = Model(\"data_transformed.csv\",\n",
    "        \"data_transformed.csv\")"
   ]
  },
  {
   "cell_type": "code",
   "execution_count": 3,
   "metadata": {},
   "outputs": [],
   "source": [
    "import numpy as np\n",
    "import pandas as pd\n",
    "from sklearn import svm\n",
    "from sklearn.metrics import f1_score\n",
    "from hyperopt import space_eval\n",
    "from hyperopt import hp, fmin, tpe, Trials, STATUS_OK"
   ]
  },
  {
   "cell_type": "code",
   "execution_count": 4,
   "metadata": {},
   "outputs": [],
   "source": [
    "import warnings\n",
    "warnings.filterwarnings('ignore')"
   ]
  },
  {
   "cell_type": "code",
   "execution_count": 5,
   "metadata": {},
   "outputs": [],
   "source": [
    "class controller():\n",
    "    def __init__(self,model):\n",
    "        self.model = model\n",
    "    \n",
    "    def optimize_hyperparam(self, n_eval=10):\n",
    "        \n",
    "        def objective(space4svm):\n",
    "            f1 = model.svm(space4svm)\n",
    "            print(f1)\n",
    "            return {'loss': -f1, 'status': STATUS_OK}\n",
    "        \n",
    "        def hyper_params():\n",
    "            space4svm ={\n",
    "            'C': hp.uniform('C', 0, 20),\n",
    "            'kernel': hp.choice('kernel', ['linear', 'sigmoid', 'poly', 'rbf']),\n",
    "            'gamma': hp.choice('gamma', ['scale', 'auto']),\n",
    "            'degree': hp.quniform('degree', 3, 10,1),\n",
    "            'coef0': hp.uniform('coef0', 0,10)\n",
    "            }\n",
    "            return space4svm\n",
    "        space4svm = hyper_params()\n",
    "    \n",
    "    \n",
    "        # Initialize trials object.\n",
    "        trials = Trials()\n",
    "        #using seed to get repeatable results.\n",
    "        seed = 123\n",
    "        # run the hyper paramter tuning.\n",
    "        best = fmin(fn=objective,   \n",
    "                        space=space4svm,\n",
    "                        algo=tpe.suggest,\n",
    "                        max_evals=n_eval,\n",
    "                        trials=trials,\n",
    "                        rstate=np.random.RandomState(seed))\n",
    "        print (space_eval(space4svm,best))\n",
    "        hyperparams = space_eval(space4svm, best)\n",
    "        return hyperparams "
   ]
  },
  {
   "cell_type": "code",
   "execution_count": 6,
   "metadata": {},
   "outputs": [],
   "source": [
    "hyperCl= controller(model)"
   ]
  },
  {
   "cell_type": "code",
   "execution_count": 7,
   "metadata": {},
   "outputs": [
    {
     "name": "stdout",
     "output_type": "stream",
     "text": [
      "0.6984886458570669                                                                                                     \n",
      "0.6984886458570669                                                                                                     \n",
      "0.5989974937343359                                                                                                     \n",
      "0.6992481203007519                                                                                                     \n",
      "0.6992481203007519                                                                                                     \n",
      "0.5088638883366223                                                                                                     \n",
      "0.6992481203007519                                                                                                     \n",
      "0.4029850746268657                                                                                                     \n",
      "0.6992481203007519                                                                                                     \n",
      "0.6992481203007519                                                                                                     \n",
      "100%|███████████████████████████████████████████████| 10/10 [00:02<00:00,  4.37trial/s, best loss: -0.6992481203007519]\n",
      "{'C': 1.7718619582441852, 'coef0': 1.6216340381955197, 'degree': 8.0, 'gamma': 'scale', 'kernel': 'poly'}\n"
     ]
    },
    {
     "data": {
      "text/plain": [
       "{'C': 1.7718619582441852,\n",
       " 'coef0': 1.6216340381955197,\n",
       " 'degree': 8.0,\n",
       " 'gamma': 'scale',\n",
       " 'kernel': 'poly'}"
      ]
     },
     "execution_count": 7,
     "metadata": {},
     "output_type": "execute_result"
    }
   ],
   "source": [
    "hyperCl.optimize_hyperparam()"
   ]
  },
  {
   "cell_type": "markdown",
   "metadata": {},
   "source": [
    "# Conclusion:"
   ]
  },
  {
   "cell_type": "markdown",
   "metadata": {},
   "source": [
    "This task is done in a team of 2 students. The given dataset was analyzed and modelled using SVM Model. Hyperparameters were tuned using hyperopt. Hyperparameter tuning is an important step in building a learning algorithm model. Best parameters for SVM model are 'C': 1.7718619582441852, 'coef0': 1.6216340381955197, 'degree': 8.0, 'gamma': 'scale', 'kernel': 'poly'"
   ]
  }
 ],
 "metadata": {
  "kernelspec": {
   "display_name": "Python 3",
   "language": "python",
   "name": "python3"
  },
  "language_info": {
   "codemirror_mode": {
    "name": "ipython",
    "version": 3
   },
   "file_extension": ".py",
   "mimetype": "text/x-python",
   "name": "python",
   "nbconvert_exporter": "python",
   "pygments_lexer": "ipython3",
   "version": "3.8.3"
  }
 },
 "nbformat": 4,
 "nbformat_minor": 4
}
