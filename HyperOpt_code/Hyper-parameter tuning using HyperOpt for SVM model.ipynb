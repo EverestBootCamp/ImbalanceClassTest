{
 "cells": [
  {
   "cell_type": "markdown",
   "metadata": {},
   "source": [
    "# Analysis Goal :"
   ]
  },
  {
   "cell_type": "markdown",
   "metadata": {},
   "source": [
    "To perform hyper-parameter tuning using HyperOpt for SVM model"
   ]
  },
  {
   "cell_type": "markdown",
   "metadata": {},
   "source": [
    "## Hyperparameter Tuning with hyperopt"
   ]
  },
  {
   "cell_type": "markdown",
   "metadata": {},
   "source": [
    "Hyperparameter tuning is an important step for maximizing the performance of a model. Hyperparameters are certain values/weights that determine the learning process of an algorithm. Several Python packages have been developed specifically for this purpose. Scikit-learn provides a few options, GridSearchCV and RandomizedSearchCV being two of the more popular options. Outside of scikit-learn, the Optunity, Spearmint and hyperopt packages are all designed for optimization. In this task, we will focus on the hyperopt package which provides algorithms that are able to outperform randomized search.\n"
   ]
  },
  {
   "cell_type": "code",
   "execution_count": 12,
   "metadata": {},
   "outputs": [],
   "source": [
    "import numpy as np\n",
    "import pandas as pd\n",
    "from sklearn import svm\n",
    "from sklearn.preprocessing import StandardScaler\n",
    "from sklearn.model_selection import train_test_split, GridSearchCV\n",
    "from sklearn.pipeline import Pipeline\n",
    "from sklearn.metrics import confusion_matrix, accuracy_score, f1_score\n",
    "from hyperopt import hp, fmin, tpe, Trials, STATUS_OK\n",
    "from hyperopt import space_eval"
   ]
  },
  {
   "cell_type": "code",
   "execution_count": 15,
   "metadata": {},
   "outputs": [
    {
     "name": "stdout",
     "output_type": "stream",
     "text": [
      "{'C': 13.991786432776268, 'coef0': 2.371507705029048, 'degree': 7, 'gamma': 'scale', 'kernel': 'linear'}               \n",
      "1.0                                                                                                                    \n",
      "{'C': 9.269271564690971, 'coef0': 0.8746958685940198, 'degree': 6, 'gamma': 'scale', 'kernel': 'linear'}               \n",
      "1.0                                                                                                                    \n",
      "{'C': 0.47346374374090283, 'coef0': 8.364423581948998, 'degree': 8, 'gamma': 'scale', 'kernel': 'rbf'}                 \n",
      "0.8571428571428571                                                                                                     \n",
      "{'C': 1.7718619582441852, 'coef0': 1.6216340381955197, 'degree': 8, 'gamma': 'scale', 'kernel': 'poly'}                \n",
      "1.0                                                                                                                    \n",
      "{'C': 12.76735262360134, 'coef0': 4.1687769282482, 'degree': 5, 'gamma': 'scale', 'kernel': 'rbf'}                     \n",
      "1.0                                                                                                                    \n",
      "{'C': 13.451922134054142, 'coef0': 0.764801405408041, 'degree': 6, 'gamma': 'auto', 'kernel': 'sigmoid'}               \n",
      "0.01829268292682927                                                                                                    \n",
      "{'C': 5.884683093396001, 'coef0': 6.544898810171443, 'degree': 7, 'gamma': 'scale', 'kernel': 'rbf'}                   \n",
      "1.0                                                                                                                    \n",
      "{'C': 1.8555169544521766, 'coef0': 9.624943251849956, 'degree': 7, 'gamma': 'auto', 'kernel': 'sigmoid'}               \n",
      "0.005982053838484547                                                                                                   \n",
      "{'C': 14.766604271188283, 'coef0': 0.4741493449748446, 'degree': 4, 'gamma': 'auto', 'kernel': 'rbf'}                  \n",
      "1.0                                                                                                                    \n",
      "{'C': 7.979009918083357, 'coef0': 9.386338383106544, 'degree': 7, 'gamma': 'scale', 'kernel': 'rbf'}                   \n",
      "1.0                                                                                                                    \n",
      "{'C': 14.647416110257476, 'coef0': 3.5687318370671672, 'degree': 10, 'gamma': 'scale', 'kernel': 'linear'}             \n",
      "1.0                                                                                                                    \n",
      "{'C': 18.682098906465104, 'coef0': 0.05436093362534811, 'degree': 7, 'gamma': 'auto', 'kernel': 'linear'}              \n",
      "1.0                                                                                                                    \n",
      "{'C': 18.202700692197936, 'coef0': 4.301651056410782, 'degree': 9, 'gamma': 'scale', 'kernel': 'poly'}                 \n",
      "1.0                                                                                                                    \n",
      "{'C': 9.919511685355902, 'coef0': 5.194081591992369, 'degree': 4, 'gamma': 'scale', 'kernel': 'sigmoid'}               \n",
      "0.005999999999999999                                                                                                   \n",
      "{'C': 8.726721450725933, 'coef0': 4.584819768125861, 'degree': 9, 'gamma': 'scale', 'kernel': 'sigmoid'}               \n",
      "0.008426966292134833                                                                                                   \n",
      "{'C': 1.7624869328679793, 'coef0': 1.0987569066486291, 'degree': 5, 'gamma': 'scale', 'kernel': 'linear'}              \n",
      "1.0                                                                                                                    \n",
      "{'C': 3.557545109675535, 'coef0': 9.15117657068451, 'degree': 9, 'gamma': 'auto', 'kernel': 'rbf'}                     \n",
      "1.0                                                                                                                    \n",
      "{'C': 11.207003447875849, 'coef0': 4.2983736209171655, 'degree': 3, 'gamma': 'scale', 'kernel': 'poly'}                \n",
      "1.0                                                                                                                    \n",
      "{'C': 18.214120362496228, 'coef0': 7.75670383737514, 'degree': 9, 'gamma': 'auto', 'kernel': 'linear'}                 \n",
      "1.0                                                                                                                    \n",
      "{'C': 17.75720829888603, 'coef0': 7.722485251074231, 'degree': 10, 'gamma': 'auto', 'kernel': 'poly'}                  \n",
      "1.0                                                                                                                    \n",
      "{'C': 11.683620337916881, 'coef0': 2.7810347231335766, 'degree': 3, 'gamma': 'scale', 'kernel': 'poly'}                \n",
      "1.0                                                                                                                    \n",
      "{'C': 16.393598600951076, 'coef0': 5.930397450656617, 'degree': 8, 'gamma': 'auto', 'kernel': 'linear'}                \n",
      "1.0                                                                                                                    \n",
      "{'C': 19.834372846304284, 'coef0': 7.063193337415826, 'degree': 5, 'gamma': 'auto', 'kernel': 'poly'}                  \n",
      "1.0                                                                                                                    \n",
      "{'C': 11.990287321922134, 'coef0': 2.778611940255394, 'degree': 3, 'gamma': 'scale', 'kernel': 'poly'}                 \n",
      "1.0                                                                                                                    \n",
      "{'C': 16.098800423029026, 'coef0': 5.882577165304635, 'degree': 8, 'gamma': 'auto', 'kernel': 'linear'}                \n",
      "1.0                                                                                                                    \n",
      "{'C': 19.803127158645978, 'coef0': 7.022337676565653, 'degree': 5, 'gamma': 'auto', 'kernel': 'poly'}                  \n",
      "1.0                                                                                                                    \n",
      "{'C': 7.218155871250389, 'coef0': 2.4667165571686898, 'degree': 6, 'gamma': 'scale', 'kernel': 'poly'}                 \n",
      "1.0                                                                                                                    \n",
      "{'C': 16.13979500772224, 'coef0': 5.666612452379464, 'degree': 8, 'gamma': 'auto', 'kernel': 'linear'}                 \n",
      "1.0                                                                                                                    \n",
      "{'C': 19.47628659869418, 'coef0': 2.096415748504972, 'degree': 6, 'gamma': 'auto', 'kernel': 'linear'}                 \n",
      "1.0                                                                                                                    \n",
      "{'C': 6.318744379551928, 'coef0': 3.242872137286353, 'degree': 6, 'gamma': 'scale', 'kernel': 'poly'}                  \n",
      "1.0                                                                                                                    \n",
      "100%|██████████████████████████████████████████████████████████████| 30/30 [00:56<00:00,  1.88s/trial, best loss: -1.0]\n",
      "{'C': 13.991786432776268, 'coef0': 2.371507705029048, 'degree': 7.0, 'gamma': 0, 'kernel': 0}\n",
      "{'C': 13.991786432776268, 'coef0': 2.371507705029048, 'degree': 7.0, 'gamma': 'scale', 'kernel': 'linear'}\n"
     ]
    }
   ],
   "source": [
    "class Model():\n",
    "\n",
    "  def __init__(self,train_path, test_path, label='Class'):\n",
    "    train = pd.read_csv(train_path)\n",
    "    test = pd.read_csv(test_path)\n",
    "    # remove :1000 during production\n",
    "    self.X_train = train.iloc[:1000,:-1]\n",
    "    self.X_test = test.iloc[:1000,:-1]\n",
    "    self.y_train = train.iloc[:1000,:][label]\n",
    "    self.y_test = test.iloc[:1000,:][label]\n",
    "    #self.data = self.data.rename(columns={\"Unnamed: 0\": \"T0\"})\n",
    "\n",
    "    # defining function for scaling data \n",
    "  def scaler(self):\n",
    "    sc = StandardScaler()\n",
    "    self.scaled_X_train = sc.fit_transform(self.X_train)\n",
    "    self.scaled_X_test = sc.transform(self.X_test)\n",
    "\n",
    "    #definig the SVM model and corresponding parameters\n",
    "  def svm(self, hyper_parameter={}):\n",
    "    \n",
    "    clf = svm.SVC(**hyper_parameter, class_weight =\\\n",
    "                    'balanced', random_state=0)\n",
    "   \n",
    "    clf.fit(self.scaled_X_train, self.y_train)\n",
    "    self.y_pred = clf.predict(self.scaled_X_test)\n",
    "    return f1_score(self.y_test, self.y_pred)\n",
    "    \n",
    "# Defining the space for hyperparameter tuning.\n",
    "space4svm = {\n",
    "    'C': hp.uniform('C', 0, 20),\n",
    "    'kernel': hp.choice('kernel', ['linear', 'sigmoid', 'poly', 'rbf']),\n",
    "    'gamma': hp.choice('gamma', ['scale', 'auto']),\n",
    "    'degree': hp.quniform('degree', 3, 10, 1),\n",
    "    'coef0': hp.uniform('coef0', 0, 10)\n",
    "}\n",
    "\n",
    "\n",
    "def objective(space4svm):\n",
    "    \"\"\"\n",
    "    hp.choice(label, options) — Returns one of the options, which should be a list or tuple.\n",
    "    hp.randint(label, upper) — Returns a random integer between the range [0, upper).\n",
    "    hp.uniform(label, low, high) — Returns a value uniformly between low and high.\n",
    "    hp.quniform(label, low, high, q) — Returns a value round(uniform(low, high) / q) * q,\n",
    "    i.e it rounds the decimal values and returns an integer.\n",
    "    hp.normal(label, mean, std) — Returns a real value that’s normally-distributed with\n",
    "    mean and standard deviation sigma.\n",
    "    \"\"\"\n",
    "    model = Model(\n",
    "        \"data_transformed_annotated_20pct.csv\",\n",
    "        \"data_transformed_annotated_10pct.csv\")\n",
    "        #\"data_transformed.csv\",\n",
    "        #\"data_transformed.csv\")\n",
    "    model.scaler()\n",
    "    space4svm['degree'] = int(space4svm['degree'])\n",
    "    print(space4svm)\n",
    "    f1 = model.svm(space4svm)\n",
    "    print(f1)\n",
    "    return {'loss': -f1, 'status': STATUS_OK}\n",
    "\n",
    "\n",
    "# Initialize trials object.\n",
    "trials = Trials()\n",
    "# using seed to get repeatable results.\n",
    "SEED = 123\n",
    "# run the hyper paramter tuning.\n",
    "best = fmin(fn=objective,\n",
    "            space=space4svm,\n",
    "            algo=tpe.suggest,\n",
    "            max_evals=30,\n",
    "            trials=trials,\n",
    "            rstate=np.random.RandomState(SEED))\n",
    "\n",
    "print(best)\n",
    "print(space_eval(space4svm, best))\n"
   ]
  },
  {
   "cell_type": "markdown",
   "metadata": {},
   "source": [
    "# Conclusion:"
   ]
  },
  {
   "cell_type": "markdown",
   "metadata": {},
   "source": [
    "This task is done in a team of 2 students. The given dataset was analyzed and modelled using SVM Model. Hyperparameters were tuned using hyperopt. Hyperparameter tuning is an important step in building a learning algorithm model. Best parameters for SVM model are 'C': 13.991786432776268, 'coef0': 2.371507705029048, 'degree': 7.0, 'gamma': 'scale', 'kernel': 'linear'."
   ]
  }
 ],
 "metadata": {
  "kernelspec": {
   "display_name": "Python 3",
   "language": "python",
   "name": "python3"
  },
  "language_info": {
   "codemirror_mode": {
    "name": "ipython",
    "version": 3
   },
   "file_extension": ".py",
   "mimetype": "text/x-python",
   "name": "python",
   "nbconvert_exporter": "python",
   "pygments_lexer": "ipython3",
   "version": "3.8.3"
  }
 },
 "nbformat": 4,
 "nbformat_minor": 4
}
