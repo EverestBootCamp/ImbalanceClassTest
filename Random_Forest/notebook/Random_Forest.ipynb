{
 "cells": [
  {
   "cell_type": "markdown",
   "metadata": {},
   "source": [
    "# Analysis Goal :"
   ]
  },
  {
   "cell_type": "markdown",
   "metadata": {},
   "source": [
    "Develop a class to train Random Forest on provided dataset with tuning using Hyperopt"
   ]
  },
  {
   "cell_type": "code",
   "execution_count": 1,
   "metadata": {},
   "outputs": [],
   "source": [
    "#import packages\n",
    "import warnings\n",
    "import numpy as np\n",
    "import pandas as pd\n",
    "from sklearn.preprocessing import StandardScaler\n",
    "from sklearn.model_selection import cross_val_score\n",
    "from sklearn.ensemble import RandomForestClassifier\n",
    "from hyperopt import space_eval\n",
    "from hyperopt import hp, fmin, tpe, Trials, STATUS_OK\n",
    "\n",
    "warnings.filterwarnings('ignore')"
   ]
  },
  {
   "cell_type": "code",
   "execution_count": 2,
   "metadata": {},
   "outputs": [],
   "source": [
    "class RFModel():\n",
    "    \"\"\"\n",
    "    A class to represent Random Forest and Hyperopt.\n",
    "    \"\"\"\n",
    "    def __init__(self,train_path,test_path,CV=5,label='Class'):\n",
    "        \"\"\"\n",
    "        Initializes Random Forest dataset object\n",
    "        \"\"\"\n",
    "        train = pd.read_csv(train_path) #reading train data\n",
    "        test = pd.read_csv(test_path) #reading test data\n",
    "        self.X_train = train.iloc[:1000, :-1]\n",
    "        self.X_test = test.iloc[:1000, :-1]\n",
    "        self.y_train = train.iloc[:1000, :][label]\n",
    "        self.y_test = test.iloc[:1000, :][label]\n",
    "        sc = StandardScaler() #scaling data\n",
    "        self.scaled_X_train = sc.fit_transform(self.X_train)\n",
    "        self.scaled_X_test = sc.transform(self.X_test)\n",
    "        self.CV=CV\n",
    "        \n",
    "    def randomforest(self,hyper_parameter={}):\n",
    "        \"\"\"\n",
    "        Applies cross_validation for the Random Forest algorithm\n",
    "        \"\"\"\n",
    "        clf = RandomForestClassifier(**hyper_parameter, \n",
    "                        random_state=123)\n",
    "        clf.fit(self.scaled_X_train, self.y_train)\n",
    "        y_pred = clf.predict(self.scaled_X_test)\n",
    "        scores= cross_val_score(clf, self.scaled_X_train, self.y_train, cv=self.CV, scoring='f1_macro')\n",
    "        return np. mean(scores)\n",
    "    \n",
    "    # Define the function to minimize (Random Forest Model) \n",
    "    def optimize_hyperparam(self, n_eval=10):\n",
    "        \"\"\"\n",
    "        This method is performing hyperparameter tuning using HyperOpt\n",
    "        for Random Forest\n",
    "        ...\n",
    "        parameters\n",
    "        ----------\n",
    "        In hyperopt bayesian optimization can be implemented giving three main\n",
    "        parameters to the function fmin.\n",
    "        Objective: Defines the loss function to minimize.\n",
    "        space    : Defines the range of input values to test.\n",
    "        Algo     : defines the search algorithm to select the best input values to\n",
    "        use in each iteration.\n",
    "        \"\"\"\n",
    "        \n",
    "        # Defining the space for hyperparameter tuning.\n",
    "        def hyper_params():\n",
    "            \"\"\"\n",
    "            hp.choice(label, options) — Returns one of the options, which should be a list or tuple.\n",
    "            hp.randint(label, upper) — Returns a random integer between the range [0, upper).\n",
    "            hp.uniform(label, low, high) — Returns a value uniformly between low and high.\n",
    "            hp.quniform(label, low, high, q) — Returns a value round(uniform(low, high) / q) * q,\n",
    "            i.e it rounds the decimal values and returns an integer.\n",
    "            hp.normal(label, mean, std) — Returns a real value that’s normally-distributed with\n",
    "            mean and standard deviation sigma.\n",
    "            \"\"\"\n",
    "            \n",
    "            space4rf ={\n",
    "                'max_depth' : hp.choice('max_depth', np.arange(5, 17, dtype=int)),\n",
    "                'n_estimators' : hp.choice('n_estimators', np.arange(150,200,dtype=int)),\n",
    "                'max_features': hp.choice('max_features', range(1,10)),\n",
    "                'criterion': hp.choice('criterion', [\"gini\", \"entropy\"]),\n",
    "                'min_samples_leaf' : hp.choice('min_samples_leaf',np.arange(2,12,dtype=int))\n",
    "            }\n",
    "            \n",
    "            return space4rf\n",
    "        space4rf = hyper_params()\n",
    "        \n",
    "        #defining function to optimize\n",
    "        def objective(space4rf):\n",
    "            \"\"\"\n",
    "            This method defines objective function to be tuned by the HyperOpt\n",
    "\n",
    "            \"\"\"\n",
    "            f1 = rf_model.randomforest(space4rf)\n",
    "            print(f1)\n",
    "            return {'loss': -f1, 'status': STATUS_OK}\n",
    "        \n",
    "        \n",
    "    \n",
    "    \n",
    "        # Initialize trials object.\n",
    "        trials = Trials()\n",
    "        #using seed to get repeatable results.\n",
    "        seed = 123\n",
    "        # run the hyper paramter tuning.\n",
    "        best = fmin(fn=objective,   \n",
    "                        space=space4rf,\n",
    "                        algo=tpe.suggest,\n",
    "                        max_evals=n_eval,\n",
    "                        trials=trials,\n",
    "                        rstate=np.random.RandomState(seed))\n",
    "        print (space_eval(space4rf,best))\n",
    "        hyperparams = space_eval(space4rf, best)\n",
    "        return hyperparams"
   ]
  },
  {
   "cell_type": "code",
   "execution_count": 3,
   "metadata": {},
   "outputs": [],
   "source": [
    "# applying model on data file\n",
    "rf_model =RFModel(\"data_transformed.csv\",\"data_transformed.csv\")\n"
   ]
  },
  {
   "cell_type": "code",
   "execution_count": 4,
   "metadata": {},
   "outputs": [
    {
     "name": "stdout",
     "output_type": "stream",
     "text": [
      "0.6992481203007519                                                                                                     \n",
      "0.6992481203007519                                                                                                     \n",
      "0.6992481203007519                                                                                                     \n",
      "0.6992481203007519                                                                                                     \n",
      "0.6992481203007519                                                                                                     \n",
      "0.6992481203007519                                                                                                     \n",
      "0.6992481203007519                                                                                                     \n",
      "0.6992481203007519                                                                                                     \n",
      "0.6992481203007519                                                                                                     \n",
      "0.6992481203007519                                                                                                     \n",
      "100%|███████████████████████████████████████████████| 10/10 [00:44<00:00,  4.49s/trial, best loss: -0.6992481203007519]\n",
      "{'criterion': 'gini', 'max_depth': 11, 'max_features': 1, 'min_samples_leaf': 10, 'n_estimators': 154}\n"
     ]
    },
    {
     "data": {
      "text/plain": [
       "{'criterion': 'gini',\n",
       " 'max_depth': 11,\n",
       " 'max_features': 1,\n",
       " 'min_samples_leaf': 10,\n",
       " 'n_estimators': 154}"
      ]
     },
     "execution_count": 4,
     "metadata": {},
     "output_type": "execute_result"
    }
   ],
   "source": [
    "rf_model.optimize_hyperparam()"
   ]
  }
 ],
 "metadata": {
  "kernelspec": {
   "display_name": "Python 3",
   "language": "python",
   "name": "python3"
  },
  "language_info": {
   "codemirror_mode": {
    "name": "ipython",
    "version": 3
   },
   "file_extension": ".py",
   "mimetype": "text/x-python",
   "name": "python",
   "nbconvert_exporter": "python",
   "pygments_lexer": "ipython3",
   "version": "3.8.3"
  }
 },
 "nbformat": 4,
 "nbformat_minor": 4
}
