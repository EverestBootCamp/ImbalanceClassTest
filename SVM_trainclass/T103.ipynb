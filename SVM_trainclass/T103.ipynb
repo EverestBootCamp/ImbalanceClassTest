{
  "nbformat": 4,
  "nbformat_minor": 0,
  "metadata": {
    "colab": {
      "name": "SVM",
      "provenance": []
    },
    "kernelspec": {
      "name": "python3",
      "display_name": "Python 3"
    }
  },
  "cells": [
    {
      "cell_type": "code",
      "metadata": {
        "id": "p10f7GuMH0Iw"
      },
      "source": [
        "import numpy as np\r\n",
        "import pandas as pd\r\n",
        "from sklearn import svm\r\n",
        "from sklearn.preprocessing import StandardScaler\r\n",
        "from sklearn.model_selection import train_test_split, GridSearchCV\r\n",
        "from sklearn.pipeline import Pipeline\r\n",
        "from sklearn.metrics import confusion_matrix, accuracy_score\r\n",
        "\r\n"
      ],
      "execution_count": null,
      "outputs": []
    },
    {
      "cell_type": "code",
      "metadata": {
        "id": "zz4OO8LzQcq7"
      },
      "source": [
        "# import some data to play with\r\n",
        "data_transformed = pd.read_csv('data_transformed.csv')\r\n",
        "\r\n",
        "# avoid this ugly slicing by using a two-dim dataset\r\n",
        "X = data_transformed.iloc[:,:-1]\r\n",
        "y = data_transformed.iloc[:,:]['Class']\r\n",
        "\r\n",
        "\r\n",
        "# using 75% of the data for training and 25% for testing (with stratification for imbalanced class)\r\n",
        "X_train, X_test, y_train, y_test = train_test_split(X, y, test_size = 0.25, stratify= y, random_state = 0)\r\n",
        "\r\n",
        "\r\n",
        "sc = StandardScaler()\r\n",
        "scaled_X_train = sc.fit_transform(X_train)\r\n",
        "scaled_X_test = sc.transform(X_test)\r\n"
      ],
      "execution_count": null,
      "outputs": []
    },
    {
      "cell_type": "code",
      "metadata": {
        "id": "P4o6_DZVZQHe"
      },
      "source": [
        "def SVM(scaled_X_train,scaled_X_test,y_train,kernel_type, hyper_parameter={}):\r\n",
        "\r\n",
        "  if kernel_type == 'linear':\r\n",
        "    hyper_parameter = hyper_parameter or {'C': 1.0}\r\n",
        "    clf = svm.SVC(kernel=kernel_type, class_weight = 'balanced', C = hyper_parameter.get('C'), random_state=0)\r\n",
        "   \r\n",
        "  if kernel_type == 'poly':\r\n",
        "    hyper_parameter = hyper_parameter or { 'C': 1.0, 'degree': 3, 'coef0': 0  }\r\n",
        "    clf = svm.SVC(kernel=kernel_type, class_weight = 'balanced', degree = hyper_parameter.get('degree'), C = hyper_parameter.get('C'),coef0= hyper_parameter.get('coef0'), random_state=0)\r\n",
        "\r\n",
        "  if kernel_type == 'rbf':\r\n",
        "    hyper_parameter = hyper_parameter or {'C': 1.0 , 'gamma' : 'scale' }\r\n",
        "    clf = svm.SVC( kernel=kernel_type, class_weight = 'balanced', gamma = hyper_parameter.get('gamma'), C = hyper_parameter.get('C'),random_state=0)\r\n",
        "  \r\n",
        "  if kernel_type == 'sigmoid':\r\n",
        "    hyper_parameter = hyper_parameter or {'C': 1.0 , 'gamma' : 'scale', 'coef0': 0 }\r\n",
        "    clf = svm.SVC(kernel=kernel_type, class_weight = 'balanced', gamma = hyper_parameter.get('gamma'), C = hyper_parameter.get('C'), coef0 = hyper_parameter.get('coef0'), random_state=0)\r\n",
        "   \r\n",
        "  clf.fit(scaled_X_train, y_train)\r\n",
        "  y_pred = clf.predict(scaled_X_test)\r\n",
        "\r\n",
        "  return y_pred\r\n",
        "\r\n",
        "\r\n"
      ],
      "execution_count": null,
      "outputs": []
    },
    {
      "cell_type": "code",
      "metadata": {
        "id": "UOO7zldZoy41"
      },
      "source": [
        "y_prediction = SVM(scaled_X_train,scaled_X_test,y_train,'rbf', {'C': 1.0 , 'gamma' : 'scale'})\r\n"
      ],
      "execution_count": null,
      "outputs": []
    },
    {
      "cell_type": "code",
      "metadata": {
        "colab": {
          "base_uri": "https://localhost:8080/"
        },
        "id": "lVmjnBZBlKNQ",
        "outputId": "955102d0-f657-4b52-f4f0-c32c08676125"
      },
      "source": [
        "cm = confusion_matrix(y_test, y_prediction)\r\n",
        "print(cm)\r\n",
        "accuracy_score(y_test, y_prediction)"
      ],
      "execution_count": null,
      "outputs": [
        {
          "output_type": "stream",
          "text": [
            "[[70269    98]\n",
            " [   33    90]]\n"
          ],
          "name": "stdout"
        },
        {
          "output_type": "execute_result",
          "data": {
            "text/plain": [
              "0.9981415803660094"
            ]
          },
          "metadata": {
            "tags": []
          },
          "execution_count": 85
        }
      ]
    },
    {
      "cell_type": "code",
      "metadata": {
        "colab": {
          "base_uri": "https://localhost:8080/"
        },
        "id": "2JP_ipFDsZcP",
        "outputId": "f802135f-c9aa-414d-a282-68e179c83163"
      },
      "source": [
        "data_transformed['Class'].value_counts()"
      ],
      "execution_count": null,
      "outputs": [
        {
          "output_type": "execute_result",
          "data": {
            "text/plain": [
              "0    281469\n",
              "1       490\n",
              "Name: Class, dtype: int64"
            ]
          },
          "metadata": {
            "tags": []
          },
          "execution_count": 90
        }
      ]
    },
    {
      "cell_type": "code",
      "metadata": {
        "colab": {
          "base_uri": "https://localhost:8080/"
        },
        "id": "oDcIl5sD1BhX",
        "outputId": "31c1c198-78b2-4b53-a10f-7934c039aa0e"
      },
      "source": [
        "y_test.value_counts()"
      ],
      "execution_count": null,
      "outputs": [
        {
          "output_type": "execute_result",
          "data": {
            "text/plain": [
              "0    70367\n",
              "1      123\n",
              "Name: Class, dtype: int64"
            ]
          },
          "metadata": {
            "tags": []
          },
          "execution_count": 91
        }
      ]
    }
  ]
}