{
 "cells": [
  {
   "cell_type": "code",
   "execution_count": 16,
   "metadata": {
    "id": "Iuf9ZhBF_q9Y"
   },
   "outputs": [],
   "source": [
    "import numpy as np\n",
    "import pandas as pd\n",
    "from sklearn import svm\n",
    "from sklearn.preprocessing import StandardScaler\n",
    "from sklearn.model_selection import train_test_split, GridSearchCV\n",
    "from sklearn.pipeline import Pipeline\n",
    "from sklearn.model_selection import cross_val_score\n",
    "from sklearn.metrics import f1_score"
   ]
  },
  {
   "cell_type": "code",
   "execution_count": 17,
   "metadata": {
    "id": "p_CSsH9bAT8O"
   },
   "outputs": [],
   "source": [
    "class Model():\n",
    " # reading train and test data and scaling them\n",
    " # CV=k value in cross validation technique\n",
    "  def __init__(self,train_path,test_path,CV=5,label='Class'):\n",
    "    train = pd.read_csv(train_path) #reading train data\n",
    "    test = pd.read_csv(test_path) #reading test data\n",
    "    self.X_train= train.iloc[:,:-1]\n",
    "    self.X_test= test.iloc[:,:-1]\n",
    "    self.y_train = train.iloc[:,:][label] \n",
    "    self.y_test = test.iloc[:,:][label]\n",
    "    sc = StandardScaler() #scaling data\n",
    "    self.scaled_X_train = sc.fit_transform(self.X_train)\n",
    "    self.scaled_X_test = sc.transform(self.X_test)\n",
    "    self.CV=CV\n",
    "\n",
    "    #definig the SVM model and corresponding parameters\n",
    "        #At the end, f1 score of model will be calculated\n",
    "    # hyper parameters: type of kernel, C, gamma,..\n",
    "  def svm(self,hyper_parameter={}):\n",
    "    \n",
    "      clf = svm.SVC(**hyper_parameter, class_weight = 'balanced',\\\n",
    "                        random_state=0)\n",
    "      clf.fit(self.scaled_X_train, self.y_train)\n",
    "      cv_mean = np.mean(cross_val_score(clf, self.scaled_X_train, self.y_train, cv=self.CV))\n",
    "      cv_std = np.std(cross_val_score(clf, self.scaled_X_train, self.y_train, cv=self.CV))\n",
    "      self.y_pred = clf.predict(self.scaled_X_test)\n",
    "      return f1_score(self.y_test,self.y_pred),cv_mean,cv_std\n",
    "    \n",
    "   "
   ]
  },
  {
   "cell_type": "code",
   "execution_count": 18,
   "metadata": {
    "id": "YjjSOtFBKIH4"
   },
   "outputs": [],
   "source": [
    "# applying model on data file\n",
    "model =Model(\"data_transformed.csv\",\"data_transformed.csv\")"
   ]
  },
  {
   "cell_type": "code",
   "execution_count": 19,
   "metadata": {
    "id": "hw1JF5f9KfBo"
   },
   "outputs": [
    {
     "name": "stderr",
     "output_type": "stream",
     "text": [
      "C:\\ProgramData\\Anaconda3\\lib\\site-packages\\sklearn\\model_selection\\_split.py:657: Warning: The least populated class in y has only 3 members, which is too few. The minimum number of members in any class cannot be less than n_splits=5.\n",
      "  % (min_groups, self.n_splits)), Warning)\n",
      "C:\\ProgramData\\Anaconda3\\lib\\site-packages\\sklearn\\model_selection\\_split.py:657: Warning: The least populated class in y has only 3 members, which is too few. The minimum number of members in any class cannot be less than n_splits=5.\n",
      "  % (min_groups, self.n_splits)), Warning)\n"
     ]
    },
    {
     "data": {
      "text/plain": [
       "(1.0, 0.9940298507462686, 0.009647124094360852)"
      ]
     },
     "execution_count": 19,
     "metadata": {},
     "output_type": "execute_result"
    }
   ],
   "source": [
    "# applting SVM on data\n",
    "model.svm(hyper_parameter={'kernel':'linear','C':1.0,'gamma' : 'auto'})"
   ]
  },
  {
   "cell_type": "code",
   "execution_count": null,
   "metadata": {},
   "outputs": [],
   "source": []
  }
 ],
 "metadata": {
  "colab": {
   "name": "SVM",
   "provenance": []
  },
  "kernelspec": {
   "display_name": "Python 3",
   "language": "python",
   "name": "python3"
  }
 },
 "nbformat": 4,
 "nbformat_minor": 1
}
