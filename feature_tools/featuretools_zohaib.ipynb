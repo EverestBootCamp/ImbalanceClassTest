{
 "cells": [
  {
   "cell_type": "code",
   "execution_count": 1,
   "metadata": {},
   "outputs": [],
   "source": [
    "#loading libraries\n",
    "import pandas as pd \n",
    "import featuretools as ft\n",
    "import featuretools.primitives"
   ]
  },
  {
   "cell_type": "code",
   "execution_count": 2,
   "metadata": {},
   "outputs": [],
   "source": [
    "#Load data and put into dataframe\n",
    "data_transformed = pd.read_csv('../data_transformed.csv')"
   ]
  },
  {
   "cell_type": "code",
   "execution_count": 3,
   "metadata": {},
   "outputs": [],
   "source": [
    "#Re-name the first column as \"unique_id\"\n",
    "df = data_transformed.rename(columns={'Unnamed: 0' : 'unique_id'})\n",
    "df['Class'] = df['Class'].map({0: 'NF', 1: 'F'})\n",
    "\n"
   ]
  },
  {
   "cell_type": "code",
   "execution_count": 4,
   "metadata": {},
   "outputs": [],
   "source": [
    "#Checking the variance contribution of each principal compomoment\n",
    "df_pcvar = df.drop(df[['unique_id','value','Class']],\n",
    "                   axis = 1)\n"
   ]
  },
  {
   "cell_type": "code",
   "execution_count": 5,
   "metadata": {},
   "outputs": [],
   "source": [
    "#Sum of all the variance across all PCs\n",
    "total_var = df_pcvar.var().sum()"
   ]
  },
  {
   "cell_type": "code",
   "execution_count": 6,
   "metadata": {},
   "outputs": [],
   "source": [
    "#Percentage variance contribution of each PCA\n",
    "per_pcvar = (df_pcvar.var()/total_var)*100\n"
   ]
  },
  {
   "cell_type": "code",
   "execution_count": 7,
   "metadata": {},
   "outputs": [],
   "source": [
    "#Converting series into dataframe\n",
    "per_pcvar = per_pcvar.to_frame()\n",
    "per_pcvar.columns = ['Var'] #renaming the column name"
   ]
  },
  {
   "cell_type": "code",
   "execution_count": 8,
   "metadata": {},
   "outputs": [],
   "source": [
    "#Getting the commulative percentage of percentage PCs\n",
    "per_pcvar['cum_per'] = per_pcvar['Var'].cumsum()"
   ]
  },
  {
   "cell_type": "code",
   "execution_count": 9,
   "metadata": {},
   "outputs": [
    {
     "data": {
      "text/html": [
       "<div>\n",
       "<style scoped>\n",
       "    .dataframe tbody tr th:only-of-type {\n",
       "        vertical-align: middle;\n",
       "    }\n",
       "\n",
       "    .dataframe tbody tr th {\n",
       "        vertical-align: top;\n",
       "    }\n",
       "\n",
       "    .dataframe thead th {\n",
       "        text-align: right;\n",
       "    }\n",
       "</style>\n",
       "<table border=\"1\" class=\"dataframe\">\n",
       "  <thead>\n",
       "    <tr style=\"text-align: right;\">\n",
       "      <th></th>\n",
       "      <th>Var</th>\n",
       "      <th>cum_per</th>\n",
       "    </tr>\n",
       "  </thead>\n",
       "  <tbody>\n",
       "    <tr>\n",
       "      <th>T1</th>\n",
       "      <td>12.481610</td>\n",
       "      <td>12.481610</td>\n",
       "    </tr>\n",
       "    <tr>\n",
       "      <th>T2</th>\n",
       "      <td>8.871778</td>\n",
       "      <td>21.353388</td>\n",
       "    </tr>\n",
       "    <tr>\n",
       "      <th>T3</th>\n",
       "      <td>7.481918</td>\n",
       "      <td>28.835305</td>\n",
       "    </tr>\n",
       "    <tr>\n",
       "      <th>T4</th>\n",
       "      <td>6.519593</td>\n",
       "      <td>35.354898</td>\n",
       "    </tr>\n",
       "    <tr>\n",
       "      <th>T5</th>\n",
       "      <td>6.204762</td>\n",
       "      <td>41.559660</td>\n",
       "    </tr>\n",
       "    <tr>\n",
       "      <th>T6</th>\n",
       "      <td>5.771936</td>\n",
       "      <td>47.331596</td>\n",
       "    </tr>\n",
       "    <tr>\n",
       "      <th>T7</th>\n",
       "      <td>4.990695</td>\n",
       "      <td>52.322292</td>\n",
       "    </tr>\n",
       "    <tr>\n",
       "      <th>T8</th>\n",
       "      <td>4.648705</td>\n",
       "      <td>56.970997</td>\n",
       "    </tr>\n",
       "    <tr>\n",
       "      <th>T9</th>\n",
       "      <td>3.926609</td>\n",
       "      <td>60.897605</td>\n",
       "    </tr>\n",
       "    <tr>\n",
       "      <th>T10</th>\n",
       "      <td>3.860441</td>\n",
       "      <td>64.758047</td>\n",
       "    </tr>\n",
       "    <tr>\n",
       "      <th>T11</th>\n",
       "      <td>3.388931</td>\n",
       "      <td>68.146977</td>\n",
       "    </tr>\n",
       "    <tr>\n",
       "      <th>T12</th>\n",
       "      <td>3.249389</td>\n",
       "      <td>71.396366</td>\n",
       "    </tr>\n",
       "    <tr>\n",
       "      <th>T13</th>\n",
       "      <td>3.222079</td>\n",
       "      <td>74.618446</td>\n",
       "    </tr>\n",
       "    <tr>\n",
       "      <th>T14</th>\n",
       "      <td>2.990471</td>\n",
       "      <td>77.608917</td>\n",
       "    </tr>\n",
       "  </tbody>\n",
       "</table>\n",
       "</div>"
      ],
      "text/plain": [
       "           Var    cum_per\n",
       "T1   12.481610  12.481610\n",
       "T2    8.871778  21.353388\n",
       "T3    7.481918  28.835305\n",
       "T4    6.519593  35.354898\n",
       "T5    6.204762  41.559660\n",
       "T6    5.771936  47.331596\n",
       "T7    4.990695  52.322292\n",
       "T8    4.648705  56.970997\n",
       "T9    3.926609  60.897605\n",
       "T10   3.860441  64.758047\n",
       "T11   3.388931  68.146977\n",
       "T12   3.249389  71.396366\n",
       "T13   3.222079  74.618446\n",
       "T14   2.990471  77.608917"
      ]
     },
     "execution_count": 9,
     "metadata": {},
     "output_type": "execute_result"
    }
   ],
   "source": [
    "#Getting the PCs that contribute towards 80% variance of the data\n",
    "per_pcvar[per_pcvar['cum_per'] <= 80]"
   ]
  },
  {
   "cell_type": "code",
   "execution_count": 10,
   "metadata": {},
   "outputs": [],
   "source": [
    "#Deleting the columns from T15-T28\n",
    "for column in df_pcvar.columns[14:]:\n",
    "    df.drop([column],axis=1,inplace=True)\n",
    "    \n"
   ]
  },
  {
   "cell_type": "code",
   "execution_count": 11,
   "metadata": {},
   "outputs": [
    {
     "data": {
      "text/plain": [
       "Entityset: fraud_detect\n",
       "  Entities:\n",
       "    data [Rows: 281959, Columns: 17]\n",
       "  Relationships:\n",
       "    No relationships"
      ]
     },
     "execution_count": 11,
     "metadata": {},
     "output_type": "execute_result"
    }
   ],
   "source": [
    "# Make an entityset and add the entity\n",
    "es = ft.EntitySet(id = 'fraud_detect')\n",
    "es.entity_from_dataframe(entity_id = 'data', dataframe = df, \n",
    "                     index = \"unique_id\")\n",
    "\n"
   ]
  },
  {
   "cell_type": "code",
   "execution_count": 31,
   "metadata": {},
   "outputs": [
    {
     "data": {
      "text/plain": [
       "(281959, 331)"
      ]
     },
     "execution_count": 31,
     "metadata": {},
     "output_type": "execute_result"
    }
   ],
   "source": [
    "# Run deep feature synthesis with transformation primitives\n",
    "feature_matrix, feature_defs = ft.dfs(entityset = es,\n",
    "                                      target_entity = 'data',\n",
    "                                      trans_primitives=['subtract_numeric',\\\n",
    "                                                        'divide_numeric'])\n",
    "feature_matrix.shape"
   ]
  },
  {
   "cell_type": "code",
   "execution_count": 26,
   "metadata": {},
   "outputs": [],
   "source": [
    "# Defining mean value for value feature from data set\n",
    "mean_value = ft.Feature(es[\"data\"][\"value\"]) > df.value.mean()"
   ]
  },
  {
   "cell_type": "code",
   "execution_count": 27,
   "metadata": {},
   "outputs": [],
   "source": [
    "# Creating aggregate primitive\n",
    "feature_matrix, feature_defs = ft.dfs(entityset=es,\n",
    "                                     target_entity=\"data\",\n",
    "                                     agg_primitives=[\"percent_true\"],\n",
    "                                     seed_features=[mean_value])"
   ]
  },
  {
   "cell_type": "code",
   "execution_count": 29,
   "metadata": {},
   "outputs": [
    {
     "data": {
      "text/plain": [
       "(281959, 17)"
      ]
     },
     "execution_count": 29,
     "metadata": {},
     "output_type": "execute_result"
    }
   ],
   "source": [
    "# Check the new feature in end\n",
    "feature_matrix.shape"
   ]
  },
  {
   "cell_type": "code",
   "execution_count": null,
   "metadata": {},
   "outputs": [],
   "source": []
  }
 ],
 "metadata": {
  "kernelspec": {
   "display_name": "Python 3",
   "language": "python",
   "name": "python3"
  },
  "language_info": {
   "codemirror_mode": {
    "name": "ipython",
    "version": 3
   },
   "file_extension": ".py",
   "mimetype": "text/x-python",
   "name": "python",
   "nbconvert_exporter": "python",
   "pygments_lexer": "ipython3",
   "version": "3.7.3"
  }
 },
 "nbformat": 4,
 "nbformat_minor": 2
}
