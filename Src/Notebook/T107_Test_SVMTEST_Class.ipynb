{
 "cells": [
  {
   "cell_type": "code",
   "execution_count": 1,
   "id": "essential-prize",
   "metadata": {},
   "outputs": [
    {
     "name": "stderr",
     "output_type": "stream",
     "text": [
      "/Users/manasaramojjala/opt/anaconda3/lib/python3.8/site-packages/sklearn/model_selection/_split.py:666: UserWarning: The least populated class in y has only 3 members, which is less than n_splits=5.\n",
      "  warnings.warn((\"The least populated class in y has only %d\"\n"
     ]
    },
    {
     "name": "stdout",
     "output_type": "stream",
     "text": [
      "0.6984886458570669                                    \n",
      "0.6984886458570669                                    \n",
      "0.5989974937343359                                                               \n",
      "0.6992481203007519                                                               \n",
      "0.6992481203007519                                                               \n",
      "0.5088638883366223                                                               \n",
      "0.6992481203007519                                                               \n",
      "0.4029850746268657                                                               \n",
      "0.6992481203007519                                                               \n",
      "0.6992481203007519                                                               \n",
      "100%|██████████| 10/10 [00:00<00:00, 14.76trial/s, best loss: -0.6992481203007519]\n",
      "{'C': 1.7718619582441852, 'coef0': 1.6216340381955197, 'degree': 8.0, 'gamma': 'scale', 'kernel': 'poly'}\n"
     ]
    }
   ],
   "source": [
    "import numpy as np\n",
    "import pandas as pd\n",
    "import sys\n",
    "import unittest\n",
    "from sklearn import svm\n",
    "from sklearn.preprocessing import StandardScaler\n",
    "from sklearn.model_selection import train_test_split, GridSearchCV\n",
    "from sklearn.pipeline import Pipeline\n",
    "from sklearn.model_selection import cross_val_score\n",
    "from sklearn.metrics import f1_score\n",
    "from hyperopt import hp, fmin, tpe, Trials, STATUS_OK\n",
    "from hyperopt import space_eval\n",
    "from SvmModel import Model\n",
    "from Hyperoptsvm import controller"
   ]
  },
  {
   "cell_type": "code",
   "execution_count": 47,
   "id": "reduced-circus",
   "metadata": {},
   "outputs": [],
   "source": [
    "class TestSVMHyperopt(unittest.TestCase):\n",
    "    def test_test_svm_degree(self):\n",
    "        train_path=\"./data_transformed_10.csv\"\n",
    "        test_path=\"./data_transformed_10.csv\"\n",
    "        obj=controller( Model(train_path,test_path,CV=5,label='Class'))\n",
    "        expected_best_params={'C':1.77,'coef':1.6216340381955197,'degree':8.0,'kernel':'poly','gamma' : 'scale'}\n",
    "        self.assertEqual(expected_best_params['degree'],obj.optimize_hyperparam()['degree'])\n",
    "    def test_test_svm_C(self):\n",
    "        train_path=\"./data_transformed_10.csv\"\n",
    "        test_path=\"./data_transformed_10.csv\"\n",
    "        obj=controller( Model(train_path,test_path,CV=5,label='Class'))\n",
    "        expected_best_params={'C':1.7718619582441852,'coef0':1.6216340381955197,'degree':8.0,'kernel':'poly','gamma' : 'scale'}\n",
    "        self.assertEqual(expected_best_params['C'],obj.optimize_hyperparam()['C'])\n",
    "    def test_test_svm_kernel(self):\n",
    "        train_path=\"./data_transformed_10.csv\"\n",
    "        test_path=\"./data_transformed_10.csv\"\n",
    "        obj=controller( Model(train_path,test_path,CV=5,label='Class'))\n",
    "        expected_best_params={'C':1.7718619582441852,'coef':1.6216340381955197,'degree':8.0,'kernel':'poly','gamma' : 'scale'}\n",
    "        self.assertEqual(expected_best_params['kernel'],obj.optimize_hyperparam()['kernel'])\n",
    "    def test_test_svm_coef(self):\n",
    "        train_path=\"./data_transformed_10.csv\"\n",
    "        test_path=\"./data_transformed_10.csv\"\n",
    "        obj=controller( Model(train_path,test_path,CV=5,label='Class'))\n",
    "        expected_best_params={'C':1.7718619582441852,'coef0':1.6216340381955197,'degree':8.0,'kernel':'poly','gamma' : 'scale'}\n",
    "        self.assertEqual(expected_best_params['coef0'],obj.optimize_hyperparam()['coef0'])\n",
    "    def test_test_svm_gamma(self):\n",
    "        train_path=\"./data_transformed_10.csv\"\n",
    "        test_path=\"./data_transformed_10.csv\"\n",
    "        obj=controller( Model(train_path,test_path,CV=5,label='Class'))\n",
    "        expected_best_params={'C':1.7718619582441852,'coef':1.6216340381955197,'degree':8.0,'kernel':'poly','gamma' : 'scale'}\n",
    "        self.assertEqual(expected_best_params['gamma'],obj.optimize_hyperparam()['gamma'])\n",
    "    \n",
    "         "
   ]
  },
  {
   "cell_type": "code",
   "execution_count": 48,
   "id": "clean-mustang",
   "metadata": {},
   "outputs": [
    {
     "name": "stdout",
     "output_type": "stream",
     "text": [
      "0.6984886458570669                                    \n",
      "0.6984886458570669                                    \n",
      "0.5989974937343359                                                               \n",
      "0.6992481203007519                                                               \n",
      "0.6992481203007519                                                               \n",
      "0.5088638883366223                                                               \n",
      "0.6992481203007519                                                               \n",
      "0.4029850746268657                                                               \n",
      "0.6992481203007519                                                               \n",
      "0.6992481203007519                                                               \n",
      "100%|██████████| 10/10 [00:00<00:00, 15.37trial/s, best loss: -0.6992481203007519]"
     ]
    },
    {
     "name": "stderr",
     "output_type": "stream",
     "text": [
      "."
     ]
    },
    {
     "name": "stdout",
     "output_type": "stream",
     "text": [
      "\n",
      "{'C': 1.7718619582441852, 'coef0': 1.6216340381955197, 'degree': 8.0, 'gamma': 'scale', 'kernel': 'poly'}\n",
      "0.6984886458570669                                    \n",
      "0.6984886458570669                                    \n",
      "0.5989974937343359                                                               \n",
      "0.6992481203007519                                                               \n",
      "0.6992481203007519                                                               \n",
      "0.5088638883366223                                                               \n",
      "0.6992481203007519                                                               \n",
      "0.4029850746268657                                                               \n",
      "0.6992481203007519                                                               \n",
      "0.6992481203007519                                                               \n",
      "100%|██████████| 10/10 [00:00<00:00, 15.68trial/s, best loss: -0.6992481203007519]"
     ]
    },
    {
     "name": "stderr",
     "output_type": "stream",
     "text": [
      "."
     ]
    },
    {
     "name": "stdout",
     "output_type": "stream",
     "text": [
      "\n",
      "{'C': 1.7718619582441852, 'coef0': 1.6216340381955197, 'degree': 8.0, 'gamma': 'scale', 'kernel': 'poly'}\n",
      "0.6984886458570669                                    \n",
      "0.6984886458570669                                    \n",
      "0.5989974937343359                                                               \n",
      "0.6992481203007519                                                               \n",
      "0.6992481203007519                                                               \n",
      "0.5088638883366223                                                               \n",
      "0.6992481203007519                                                               \n",
      "0.4029850746268657                                                               \n",
      "0.6992481203007519                                                               \n",
      "0.6992481203007519                                                               \n",
      "100%|██████████| 10/10 [00:00<00:00, 15.38trial/s, best loss: -0.6992481203007519]"
     ]
    },
    {
     "name": "stderr",
     "output_type": "stream",
     "text": [
      "."
     ]
    },
    {
     "name": "stdout",
     "output_type": "stream",
     "text": [
      "\n",
      "{'C': 1.7718619582441852, 'coef0': 1.6216340381955197, 'degree': 8.0, 'gamma': 'scale', 'kernel': 'poly'}\n",
      "0.6984886458570669                                    \n",
      "0.6984886458570669                                    \n",
      "0.5989974937343359                                                               \n",
      "0.6992481203007519                                                               \n",
      "0.6992481203007519                                                               \n",
      "0.5088638883366223                                                               \n",
      "0.6992481203007519                                                               \n",
      "0.4029850746268657                                                               \n",
      "0.6992481203007519                                                               \n",
      "0.6992481203007519                                                               \n",
      "100%|██████████| 10/10 [00:00<00:00, 15.83trial/s, best loss: -0.6992481203007519]"
     ]
    },
    {
     "name": "stderr",
     "output_type": "stream",
     "text": [
      "."
     ]
    },
    {
     "name": "stdout",
     "output_type": "stream",
     "text": [
      "\n",
      "{'C': 1.7718619582441852, 'coef0': 1.6216340381955197, 'degree': 8.0, 'gamma': 'scale', 'kernel': 'poly'}\n",
      "0.6984886458570669                                    \n",
      "0.6984886458570669                                    \n",
      "0.5989974937343359                                                               \n",
      "0.6992481203007519                                                               \n",
      "0.6992481203007519                                                               \n",
      "0.5088638883366223                                                               \n",
      "0.6992481203007519                                                               \n",
      "0.4029850746268657                                                               \n",
      "0.6992481203007519                                                               \n",
      "0.6992481203007519                                                               \n",
      "100%|██████████| 10/10 [00:00<00:00, 15.69trial/s, best loss: -0.6992481203007519]"
     ]
    },
    {
     "name": "stderr",
     "output_type": "stream",
     "text": [
      "."
     ]
    },
    {
     "name": "stdout",
     "output_type": "stream",
     "text": [
      "\n",
      "{'C': 1.7718619582441852, 'coef0': 1.6216340381955197, 'degree': 8.0, 'gamma': 'scale', 'kernel': 'poly'}\n"
     ]
    },
    {
     "name": "stderr",
     "output_type": "stream",
     "text": [
      "\n",
      "----------------------------------------------------------------------\n",
      "Ran 5 tests in 5.453s\n",
      "\n",
      "OK\n"
     ]
    },
    {
     "data": {
      "text/plain": [
       "<unittest.runner.TextTestResult run=5 errors=0 failures=0>"
      ]
     },
     "execution_count": 48,
     "metadata": {},
     "output_type": "execute_result"
    }
   ],
   "source": [
    "suite = unittest.TestLoader().loadTestsFromTestCase(TestSVMHyperopt)\n",
    "unittest.TextTestRunner(verbosity=1, stream=sys.stderr).run(suite)"
   ]
  }
 ],
 "metadata": {
  "kernelspec": {
   "display_name": "Python 3",
   "language": "python",
   "name": "python3"
  },
  "language_info": {
   "codemirror_mode": {
    "name": "ipython",
    "version": 3
   },
   "file_extension": ".py",
   "mimetype": "text/x-python",
   "name": "python",
   "nbconvert_exporter": "python",
   "pygments_lexer": "ipython3",
   "version": "3.8.3"
  }
 },
 "nbformat": 4,
 "nbformat_minor": 5
}
