{
 "cells": [
  {
   "cell_type": "code",
   "execution_count": 1,
   "metadata": {},
   "outputs": [],
   "source": [
    "from SvmModel import Model"
   ]
  },
  {
   "cell_type": "code",
   "execution_count": 2,
   "metadata": {},
   "outputs": [],
   "source": [
    "model = Model(\"data_transformed.csv\",\n",
    "        \"data_transformed.csv\")"
   ]
  },
  {
   "cell_type": "code",
   "execution_count": 3,
   "metadata": {},
   "outputs": [],
   "source": [
    "from Hyperoptsvm import controller"
   ]
  },
  {
   "cell_type": "code",
   "execution_count": 4,
   "metadata": {},
   "outputs": [
    {
     "name": "stdout",
     "output_type": "stream",
     "text": [
      "0.6984886458570669                                                                                                     \n",
      "0.6984886458570669                                                                                                     \n",
      "0.5989974937343359                                                                                                     \n",
      "0.6992481203007519                                                                                                     \n",
      "0.6992481203007519                                                                                                     \n",
      "0.5088638883366223                                                                                                     \n",
      "0.6992481203007519                                                                                                     \n",
      "0.4029850746268657                                                                                                     \n",
      "0.6992481203007519                                                                                                     \n",
      "0.6992481203007519                                                                                                     \n",
      "100%|███████████████████████████████████████████████| 10/10 [00:02<00:00,  4.33trial/s, best loss: -0.6992481203007519]\n",
      "{'C': 1.7718619582441852, 'coef0': 1.6216340381955197, 'degree': 8.0, 'gamma': 'scale', 'kernel': 'poly'}\n"
     ]
    }
   ],
   "source": [
    "hyperCl = controller(model)\n",
    "hyperparams = hyperCl.optimize_hyperparam()"
   ]
  },
  {
   "cell_type": "code",
   "execution_count": 5,
   "metadata": {},
   "outputs": [
    {
     "name": "stdout",
     "output_type": "stream",
     "text": [
      "{'C': 1.7718619582441852, 'coef0': 1.6216340381955197, 'degree': 8.0, 'gamma': 'scale', 'kernel': 'poly'}\n"
     ]
    }
   ],
   "source": [
    "print(hyperparams)"
   ]
  },
  {
   "cell_type": "code",
   "execution_count": 6,
   "metadata": {},
   "outputs": [],
   "source": [
    "import pandas as pd\n",
    "from sklearn.model_selection import train_test_split\n",
    "from sklearn.preprocessing import StandardScaler"
   ]
  },
  {
   "cell_type": "code",
   "execution_count": 7,
   "metadata": {},
   "outputs": [],
   "source": [
    "# import data\n",
    "data_transformed = pd.read_csv('data_transformed.csv')\n",
    "\n",
    "# avoid this ugly slicing by using a two-dim dataset\n",
    "X = data_transformed.iloc[:,:-1]\n",
    "y = data_transformed.iloc[:,:]['Class']\n",
    "\n",
    "\n",
    "# using 75% of the data for training and 30% for testing (with stratification for imbalanced class)\n",
    "X_train, X_test, y_train, y_test = train_test_split(X, y, test_size = 0.30, stratify= y, random_state = 123)\n",
    "\n",
    "#Standardize features by removing the mean and scaling to unit variance\n",
    "sc = StandardScaler()\n",
    "scaled_X_train = sc.fit_transform(X_train)\n",
    "scaled_X_test = sc.transform(X_test)"
   ]
  },
  {
   "cell_type": "code",
   "execution_count": 8,
   "metadata": {},
   "outputs": [],
   "source": [
    "import numpy as np\n",
    "from sklearn import svm\n",
    "from sklearn.svm import SVC\n",
    "from sklearn.metrics import confusion_matrix\n",
    "from sklearn.metrics import roc_auc_score\n",
    "from sklearn.metrics import cohen_kappa_score\n",
    "import matplotlib.pyplot as plt\n",
    "from sklearn.metrics import plot_roc_curve\n",
    "from sklearn.metrics import precision_recall_curve\n",
    "from sklearn.metrics import average_precision_score\n",
    "from sklearn.metrics import plot_precision_recall_curve\n",
    "\n",
    "\n",
    "class Test:\n",
    "    \"\"\"\n",
    "    A class to represent trains the model on best paramters and\n",
    "    evaluate SVM model\n",
    "\n",
    "    \"\"\"\n",
    "\n",
    "    def __init__(self, hyperparams, scaled_X_train, scaled_X_test, y_train):\n",
    "        self.clf = svm.SVC(**hyperparams, class_weight='balanced', random_state=123, probability=True)\n",
    "        self.clf.fit(scaled_X_train, y_train)\n",
    "        self.pred = self.clf.predict(scaled_X_test)\n",
    "\n",
    "    def score(self, y_test):\n",
    "        # Compute confusion matrix, roc_auc_score, Cohen_kappa_score\n",
    "\n",
    "        performance = {\"confusion_matrix\": confusion_matrix(y_test, self.pred),\n",
    "                  \"roc_auc_score\": roc_auc_score(y_test, self.pred),\n",
    "                  \"cohen_score\": cohen_kappa_score(y_test, self.pred)}\n",
    "        return performance\n",
    "    \n",
    "    def roc(self):\n",
    "        clf =self.clf\n",
    "        svc_disp = plot_roc_curve(clf, scaled_X_test , y_test)\n",
    "        svc_disp.ax_.set_xlabel('False Positive Rate')\n",
    "        svc_disp.ax_.set_ylabel('True Positive Rate')\n",
    "        svc_disp.ax_.set_title('ROC curve')\n",
    "        plt.show()\n",
    "        plt.savefig('roc.png')\n",
    "        \n",
    "    def prcurve(self):\n",
    "        clf =self.clf\n",
    "        y_score = clf.decision_function(scaled_X_test)\n",
    "        average_precision = average_precision_score(y_test, y_score)\n",
    "        disp = plot_precision_recall_curve(clf,scaled_X_test, y_test)\n",
    "        disp.ax_.set_xlabel('Recall')\n",
    "        disp.ax_.set_ylabel('Precision')\n",
    "        disp.ax_.set_title('2-class Precision-Recall curve: '\n",
    "                   'AP={0:0.2f}'.format(average_precision))\n",
    "        plt.show()\n",
    "        plt.savefig('prcurve.png')"
   ]
  },
  {
   "cell_type": "code",
   "execution_count": 9,
   "metadata": {},
   "outputs": [
    {
     "name": "stdout",
     "output_type": "stream",
     "text": [
      "{'confusion_matrix': array([[84349,    92],\n",
      "       [   34,   113]], dtype=int64), 'roc_auc_score': 0.8838089824340579, 'cohen_score': 0.6413194194147505}\n"
     ]
    }
   ],
   "source": [
    "testing = Test(\n",
    "    hyperparams=hyperparams,\n",
    "    scaled_X_train=scaled_X_train,\n",
    "    scaled_X_test=scaled_X_test,\n",
    "    y_train=y_train)\n",
    "\n",
    "print(testing.score(y_test=y_test))"
   ]
  },
  {
   "cell_type": "code",
   "execution_count": 10,
   "metadata": {},
   "outputs": [
    {
     "data": {
      "image/png": "[encoded data removed]",
      "text/plain": [
       "<Figure size 432x288 with 1 Axes>"
      ]
     },
     "metadata": {
      "needs_background": "light"
     },
     "output_type": "display_data"
    },
    {
     "data": {
      "text/plain": [
       "<Figure size 432x288 with 0 Axes>"
      ]
     },
     "metadata": {},
     "output_type": "display_data"
    }
   ],
   "source": [
    "testing.roc()"
   ]
  },
  {
   "cell_type": "code",
   "execution_count": 11,
   "metadata": {},
   "outputs": [
    {
     "data": {
      "image/png": "[encoded data removed]",
      "text/plain": [
       "<Figure size 432x288 with 1 Axes>"
      ]
     },
     "metadata": {
      "needs_background": "light"
     },
     "output_type": "display_data"
    },
    {
     "data": {
      "text/plain": [
       "<Figure size 432x288 with 0 Axes>"
      ]
     },
     "metadata": {},
     "output_type": "display_data"
    }
   ],
   "source": [
    "testing.prcurve()"
   ]
  }
 ],
 "metadata": {
  "kernelspec": {
   "display_name": "Python 3",
   "language": "python",
   "name": "python3"
  },
  "language_info": {
   "codemirror_mode": {
    "name": "ipython",
    "version": 3
   },
   "file_extension": ".py",
   "mimetype": "text/x-python",
   "name": "python",
   "nbconvert_exporter": "python",
   "pygments_lexer": "ipython3",
   "version": "3.8.3"
  }
 },
 "nbformat": 4,
 "nbformat_minor": 4
}
