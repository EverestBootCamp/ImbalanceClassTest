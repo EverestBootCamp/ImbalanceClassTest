{
 "cells": [
  {
   "cell_type": "code",
   "execution_count": 1,
   "metadata": {},
   "outputs": [],
   "source": [
    "import pandas as pd\n",
    "import numpy as np\n",
    "from sklearn import svm\n",
    "from sklearn.svm import SVC\n",
    "from sklearn.model_selection import train_test_split\n",
    "from sklearn.preprocessing import StandardScaler\n",
    "from sklearn.metrics import confusion_matrix\n",
    "from sklearn.metrics import roc_auc_score\n",
    "from sklearn.metrics import cohen_kappa_score\n",
    "\n",
    "\n",
    "np.random.seed(123)\n",
    "\n",
    "# import data\n",
    "data_transformed = pd.read_csv('data_transformed.csv')\n",
    "\n",
    "# avoid this ugly slicing by using a two-dim dataset\n",
    "X = data_transformed.iloc[:5000, :-1]\n",
    "y = data_transformed.iloc[:5000, :]['Class']\n",
    "\n",
    "\n",
    "# using 75% of the data for training and 30% for testing (with\n",
    "# stratification for imbalanced class)\n",
    "X_train, X_test, y_train, y_test = train_test_split(\n",
    "    X, y, test_size=0.30, stratify=y, random_state=123)\n",
    "\n",
    "# Standardize features by removing the mean and scaling to unit variance\n",
    "sc = StandardScaler()\n",
    "scaled_X_train = sc.fit_transform(X_train)\n",
    "scaled_X_test = sc.transform(X_test)\n",
    "\n",
    "hyperparams = {\n",
    "    'C': 1.7718619582441852,\n",
    "    'coef0': 1.6216340381955197,\n",
    "    'degree': 8.0,\n",
    "    'gamma': 'scale',\n",
    "    'kernel': 'poly'}\n",
    "\n",
    "\n",
    "class Test:\n",
    "    \"\"\"\n",
    "    A class to represent trains the model on best paramters and\n",
    "    evaluate SVM model\n",
    "\n",
    "    \"\"\"\n",
    "\n",
    "    def __init__(self, hyperparams, scaled_X_train, scaled_X_test, y_train):\n",
    "        clf = svm.SVC(**hyperparams, class_weight='balanced', random_state=123)\n",
    "        clf.fit(scaled_X_train, y_train)\n",
    "        self.pred = clf.predict(scaled_X_test)\n",
    "\n",
    "    def score(self, y_test):\n",
    "        # Compute confusion matrix, roc_auc_score, Cohen_kappa_score\n",
    "\n",
    "        scores = {\"confusion_matrix\": confusion_matrix(y_test, self.pred),\n",
    "                  \"roc_auc_score\": roc_auc_score(y_test, self.pred),\n",
    "                  \"cohen_score\": cohen_kappa_score(y_test, self.pred)}\n",
    "        return scores\n"
   ]
  },
  {
   "cell_type": "code",
   "execution_count": 2,
   "metadata": {},
   "outputs": [
    {
     "name": "stdout",
     "output_type": "stream",
     "text": [
      "{'confusion_matrix': array([[1496,    2],\n",
      "       [   0,    2]], dtype=int64), 'roc_auc_score': 0.9993324432576769, 'cohen_score': 0.666073018699911}\n"
     ]
    }
   ],
   "source": [
    "testing = Test(\n",
    "    hyperparams=hyperparams,\n",
    "    scaled_X_train=scaled_X_train,\n",
    "    scaled_X_test=scaled_X_test,\n",
    "    y_train=y_train)\n",
    "\n",
    "print(testing.score(y_test=y_test))\n"
   ]
  }
 ],
 "metadata": {
  "kernelspec": {
   "display_name": "Python 3",
   "language": "python",
   "name": "python3"
  },
  "language_info": {
   "codemirror_mode": {
    "name": "ipython",
    "version": 3
   },
   "file_extension": ".py",
   "mimetype": "text/x-python",
   "name": "python",
   "nbconvert_exporter": "python",
   "pygments_lexer": "ipython3",
   "version": "3.8.3"
  }
 },
 "nbformat": 4,
 "nbformat_minor": 4
}
